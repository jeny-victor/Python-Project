{
 "cells": [
  {
   "cell_type": "markdown",
   "id": "c2bb9f05",
   "metadata": {},
   "source": [
    "### Tic Tac Toe"
   ]
  },
  {
   "cell_type": "code",
   "execution_count": 8,
   "id": "84cf3bf1",
   "metadata": {},
   "outputs": [
    {
     "name": "stdout",
     "output_type": "stream",
     "text": [
      "  |   |  \n",
      "  |   |  \n",
      "  |   |  \n"
     ]
    }
   ],
   "source": [
    "board = [\" \" for i in range (10)]\n",
    "def display_board():\n",
    "    print(board[1],\"|\", board [2],\"|\" ,board[3])\n",
    "    print(board[4],\"|\", board [5],\"|\" ,board[6])\n",
    "    print(board[7],\"|\", board [8],\"|\" ,board[9])\n",
    "display_board()"
   ]
  },
  {
   "cell_type": "code",
   "execution_count": 9,
   "id": "5cc61493",
   "metadata": {},
   "outputs": [],
   "source": [
    "board[0] =\" * \""
   ]
  },
  {
   "cell_type": "code",
   "execution_count": 10,
   "id": "ac174cd9",
   "metadata": {},
   "outputs": [
    {
     "data": {
      "text/plain": [
       "[' * ', ' ', ' ', ' ', ' ', ' ', ' ', ' ', ' ', ' ']"
      ]
     },
     "execution_count": 10,
     "metadata": {},
     "output_type": "execute_result"
    }
   ],
   "source": [
    "board"
   ]
  },
  {
   "cell_type": "code",
   "execution_count": 11,
   "id": "b41aa7da",
   "metadata": {},
   "outputs": [],
   "source": [
    "def check_win():\n",
    "    if board[1] == board[2] == board[3] and board[1]!=' ':\n",
    "        return True\n",
    "    elif board[4] == board[5] == board[6] and board[4]!=' ':\n",
    "        return True\n",
    "    elif board[7] == board[8] == board[9] and board[7]!=' ':\n",
    "        return True\n",
    "    elif board[1] == board[5] == board[9] and board[1]!=' ':\n",
    "        return True\n",
    "    elif board[3] == board[5] == board[7] and board[3]!=' ':\n",
    "        return True\n",
    "    elif board[1] == board[4] == board[7] and board[1]!=' ':\n",
    "        return True\n",
    "    elif board[2] == board[5] == board[8] and board[2]!=' ':\n",
    "        return True\n",
    "    elif board[3] == board[6] == board[9] and board[3]!=' ':\n",
    "        return True\n",
    "    else:\n",
    "        return False     "
   ]
  },
  {
   "cell_type": "code",
   "execution_count": 12,
   "id": "cdbf6267",
   "metadata": {},
   "outputs": [],
   "source": [
    "def check_draw():\n",
    "    if \" \" not in board:\n",
    "        return True\n",
    "    else:\n",
    "        return False"
   ]
  },
  {
   "cell_type": "code",
   "execution_count": 13,
   "id": "0fd10ebe",
   "metadata": {},
   "outputs": [],
   "source": [
    "current_player = \"X\""
   ]
  },
  {
   "cell_type": "code",
   "execution_count": null,
   "id": "7fa8ddd6",
   "metadata": {},
   "outputs": [
    {
     "name": "stdout",
     "output_type": "stream",
     "text": [
      "  |   |  \n",
      "  |   |  \n",
      "  |   |  \n"
     ]
    }
   ],
   "source": [
    "while True:\n",
    "    display_board()\n",
    "    \n",
    "    move = int(input(f'{current_player} enter your position '))\n",
    "    \n",
    "    if board[move]!=\" \":\n",
    "        print(\"This space already taken choose another position\")\n",
    "        move = int(input(\"enter the number 1-9\"))\n",
    "    board [move] = current_player\n",
    "    if check_win():\n",
    "        display_board()\n",
    "        print(f'{current_player} won!')\n",
    "        break\n",
    "    if check_draw():\n",
    "            display_board()\n",
    "            print(\" DRAW!\")\n",
    "            break\n",
    "    if current_player ==\"X\":\n",
    "        current_player =\"O\"\n",
    "    else:\n",
    "         current_player =\"X\""
   ]
  },
  {
   "cell_type": "code",
   "execution_count": null,
   "id": "07b00aa5",
   "metadata": {},
   "outputs": [],
   "source": []
  },
  {
   "cell_type": "code",
   "execution_count": null,
   "id": "650f6b8c",
   "metadata": {},
   "outputs": [],
   "source": []
  },
  {
   "cell_type": "code",
   "execution_count": null,
   "id": "c6eb10d5",
   "metadata": {},
   "outputs": [],
   "source": []
  }
 ],
 "metadata": {
  "kernelspec": {
   "display_name": "Python 3 (ipykernel)",
   "language": "python",
   "name": "python3"
  },
  "language_info": {
   "codemirror_mode": {
    "name": "ipython",
    "version": 3
   },
   "file_extension": ".py",
   "mimetype": "text/x-python",
   "name": "python",
   "nbconvert_exporter": "python",
   "pygments_lexer": "ipython3",
   "version": "3.11.4"
  }
 },
 "nbformat": 4,
 "nbformat_minor": 5
}
