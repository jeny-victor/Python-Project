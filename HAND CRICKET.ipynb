{
 "cells": [
  {
   "cell_type": "markdown",
   "id": "607707e7",
   "metadata": {},
   "source": [
    "### Hand cricket"
   ]
  },
  {
   "cell_type": "code",
   "execution_count": 1,
   "id": "621bbece",
   "metadata": {},
   "outputs": [],
   "source": [
    "import random\n",
    "\n",
    "def hand_cricket():\n",
    "    print(\"Welcome to Hand Cricket!\")\n",
    "    print(\"You are the batsman, and the computer is the bowler.\")\n",
    "\n",
    "    total_runs = 0\n",
    "\n",
    "    while True:\n",
    "        try:\n",
    "            user_input = int(input(\"Enter your move (1 to 10): \"))\n",
    "            if 1 <= user_input <= 6:\n",
    "                computer_input = random.randint(1, 10)\n",
    "                print(f\"Computer's move: {computer_input}\")\n",
    "\n",
    "                if user_input == computer_input:\n",
    "                    print(\"Out! Your inning is over.\")\n",
    "                    break\n",
    "                else:\n",
    "                    total_runs += user_input\n",
    "                    print(f\"Your score: {total_runs}\")\n",
    "            else:\n",
    "                print(\"Please enter a number between 1 and 10.\")\n",
    "        except ValueError:\n",
    "            print(\"Invalid input. Please enter a number.\")\n",
    "\n",
    "    print(f\"You scored {total_runs} runs.\")"
   ]
  },
  {
   "cell_type": "code",
   "execution_count": null,
   "id": "68157eb1",
   "metadata": {},
   "outputs": [],
   "source": []
  },
  {
   "cell_type": "code",
   "execution_count": null,
   "id": "96c2709d",
   "metadata": {},
   "outputs": [
    {
     "name": "stdout",
     "output_type": "stream",
     "text": [
      "Welcome to Hand Cricket!\n",
      "You are the batsman, and the computer is the bowler.\n"
     ]
    }
   ],
   "source": [
    "if __name__ ==\"__main__\":\n",
    "    hand_cricket()"
   ]
  },
  {
   "cell_type": "code",
   "execution_count": null,
   "id": "61bcfcb0",
   "metadata": {},
   "outputs": [],
   "source": []
  },
  {
   "cell_type": "code",
   "execution_count": null,
   "id": "dc3df60a",
   "metadata": {},
   "outputs": [],
   "source": []
  }
 ],
 "metadata": {
  "kernelspec": {
   "display_name": "Python 3 (ipykernel)",
   "language": "python",
   "name": "python3"
  },
  "language_info": {
   "codemirror_mode": {
    "name": "ipython",
    "version": 3
   },
   "file_extension": ".py",
   "mimetype": "text/x-python",
   "name": "python",
   "nbconvert_exporter": "python",
   "pygments_lexer": "ipython3",
   "version": "3.11.4"
  }
 },
 "nbformat": 4,
 "nbformat_minor": 5
}
