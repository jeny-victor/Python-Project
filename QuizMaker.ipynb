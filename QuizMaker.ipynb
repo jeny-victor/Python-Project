{
 "cells": [
  {
   "cell_type": "markdown",
   "id": "cd8af3c8",
   "metadata": {},
   "source": [
    "### QUIZ MAKER"
   ]
  },
  {
   "cell_type": "code",
   "execution_count": 1,
   "id": "09cb097f",
   "metadata": {},
   "outputs": [],
   "source": [
    "from tkinter import *\n",
    "root = Tk()\n",
    "root.title(\"QUIZ MAKER\")\n",
    "root.mainloop()"
   ]
  },
  {
   "cell_type": "code",
   "execution_count": 13,
   "id": "c9c3494e",
   "metadata": {},
   "outputs": [
    {
     "data": {
      "text/plain": [
       "''"
      ]
     },
     "execution_count": 13,
     "metadata": {},
     "output_type": "execute_result"
    }
   ],
   "source": [
    "import tkinter as tk\n",
    "from tkinter import StringVar\n",
    "root = tk.Tk()\n",
    "root.title(\"Quiz Maker\")\n",
    "root.geometry('500x500')\n"
   ]
  },
  {
   "cell_type": "code",
   "execution_count": 14,
   "id": "279c8296",
   "metadata": {},
   "outputs": [],
   "source": [
    "questions =[\"1 + 1 = ?\",\"2 + 2 = ?\",\"3 + 3 =? \",\"4 + 4 = ?\",\"5 +5 =?\"]\n",
    "options =[['A','E','D','2'],['A','S','D','4'],['D','B','F','6'],['A','T','J','8'],['A','R','V','10']]\n",
    "frame = tk.Frame(root,padx =10,pady = 10,bg = \"#fff\")\n",
    "question_label = tk.Label(frame,height= 5 ,width =28,bg ='grey',fg ='#fff',font =('verdana',20),wraplength = 500)\n",
    "\n",
    "v1 =StringVar(frame)\n",
    "v2 =StringVar(frame)\n",
    "v3 =StringVar(frame)          \n",
    "v4 =StringVar(frame)\n",
    "\n",
    "option1 = tk.Radiobutton(frame,bg ='#fff',variable=v1,font =(\"verdana\",20),command = lambda :checkAnswer(option1))\n",
    "option2 = tk.Radiobutton(frame,bg ='#fff',variable=v2,font =(\"verdana\",20),command = lambda :checkAnswer(option2))\n",
    "option3 = tk.Radiobutton(frame,bg ='#fff',variable=v3,font =(\"verdana\",20),command = lambda :checkAnswer(option3))\n",
    "option4 = tk.Radiobutton(frame,bg ='#fff',variable=v4,font =(\"verdana\",20),command = lambda :checkAnswer(option4))\n"
   ]
  },
  {
   "cell_type": "code",
   "execution_count": 15,
   "id": "9d782dcf",
   "metadata": {},
   "outputs": [],
   "source": [
    "button_next = tk.Button(frame,text ='Next',font =(\"verdana\",20),command = lambda :displayNextQuestion())\n",
    "frame.pack(fill=\"both\",expand = \"true\")\n",
    "question_label.grid(row = 0,column=0)\n",
    "option1.grid(sticky=\"w\",row = 1,column=0)\n",
    "option2.grid(sticky=\"w\",row = 2,column=0)\n",
    "option3.grid(sticky=\"w\",row = 3,column=0)\n",
    "option4.grid(sticky=\"w\",row = 4,column=0)\n",
    "button_next.grid(row=6,column=0)\n",
    "index = 0\n",
    "correct = 0"
   ]
  },
  {
   "cell_type": "code",
   "execution_count": 16,
   "id": "b9a91da0",
   "metadata": {},
   "outputs": [],
   "source": [
    "def disableButtons(state):\n",
    "    option1['state'] = state\n",
    "    option2['state'] = state\n",
    "    option3['state'] = state\n",
    "    option4['state'] = state"
   ]
  },
  {
   "cell_type": "code",
   "execution_count": 17,
   "id": "814dfee0",
   "metadata": {},
   "outputs": [],
   "source": [
    "def checkAnswer(radio):\n",
    "    global correct,index\n",
    "    if radio['text'] == options[index][3]:\n",
    "        correct +=1\n",
    "    index +=1\n",
    "    disableButtons('disable')"
   ]
  },
  {
   "cell_type": "code",
   "execution_count": 18,
   "id": "9d8af27a",
   "metadata": {},
   "outputs": [],
   "source": [
    " def displayNextQuestion():\n",
    "        global index,correct\n",
    "        if button_next['text'] =='Restart the quiz':\n",
    "            correct = 0\n",
    "            index = 0\n",
    "            question_label['bg'] = 'green'\n",
    "            button_next['text'] ='Next'\n",
    "        if index ==len(options):\n",
    "            question_label['text'] =str(correct)+\" / \" + str(len(options))\n",
    "            button_next['text'] = 'Restart the quiz'\n",
    "            \n",
    "        else:\n",
    "            question_label['text'] = questions[index]\n",
    "            disableButtons('normal')\n",
    "            opts = options[index]\n",
    "            option1['text'] = opts[0]\n",
    "            option2['text'] = opts[1]\n",
    "            option3['text'] = opts[2]\n",
    "            option4['text'] = opts[3]\n",
    "            v1.set(opts[0])\n",
    "            v2.set(opts[1])\n",
    "            v3.set(opts[2])   \n",
    "            v4.set(opts[3])"
   ]
  },
  {
   "cell_type": "code",
   "execution_count": 19,
   "id": "a11c7ee7",
   "metadata": {},
   "outputs": [],
   "source": [
    "if index == len(options) -1:\n",
    "    button_next['text'] ='check the results'"
   ]
  },
  {
   "cell_type": "code",
   "execution_count": 20,
   "id": "722b913c",
   "metadata": {},
   "outputs": [],
   "source": [
    "displayNextQuestion()\n",
    "root.mainloop()"
   ]
  },
  {
   "cell_type": "code",
   "execution_count": null,
   "id": "e335dd47",
   "metadata": {},
   "outputs": [],
   "source": []
  },
  {
   "cell_type": "code",
   "execution_count": null,
   "id": "1cc4a807",
   "metadata": {},
   "outputs": [],
   "source": []
  },
  {
   "cell_type": "code",
   "execution_count": null,
   "id": "a2d32d19",
   "metadata": {},
   "outputs": [],
   "source": []
  },
  {
   "cell_type": "code",
   "execution_count": null,
   "id": "4ad75737",
   "metadata": {},
   "outputs": [],
   "source": []
  }
 ],
 "metadata": {
  "kernelspec": {
   "display_name": "Python 3 (ipykernel)",
   "language": "python",
   "name": "python3"
  },
  "language_info": {
   "codemirror_mode": {
    "name": "ipython",
    "version": 3
   },
   "file_extension": ".py",
   "mimetype": "text/x-python",
   "name": "python",
   "nbconvert_exporter": "python",
   "pygments_lexer": "ipython3",
   "version": "3.11.4"
  }
 },
 "nbformat": 4,
 "nbformat_minor": 5
}
