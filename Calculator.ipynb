{
 "cells": [
  {
   "cell_type": "markdown",
   "metadata": {},
   "source": [
    "### calculator"
   ]
  },
  {
   "cell_type": "code",
   "execution_count": 4,
   "metadata": {},
   "outputs": [],
   "source": [
    "from tkinter import *"
   ]
  },
  {
   "cell_type": "code",
   "execution_count": 12,
   "metadata": {},
   "outputs": [],
   "source": [
    "root = Tk()\n",
    "root.title('calculator')\n",
    "root.mainloop()\n"
   ]
  },
  {
   "cell_type": "code",
   "execution_count": 13,
   "metadata": {},
   "outputs": [],
   "source": [
    "import tkinter as tk\n",
    "\n",
    "def on_click(button_value):\n",
    "    current = entry.get()\n",
    "    entry.delete(0, tk.END)\n",
    "    entry.insert(tk.END, current + str(button_value))\n",
    "\n",
    "def clear_entry():\n",
    "    entry.delete(0, tk.END)\n",
    "\n",
    "def calculate():\n",
    "    try:\n",
    "        result = eval(entry.get())\n",
    "        entry.delete(0, tk.END)\n",
    "        entry.insert(tk.END, str(result))\n",
    "    except Exception as e:\n",
    "        entry.delete(0, tk.END)\n",
    "        entry.insert(tk.END, \"Error\")\n",
    "\n",
    "root = tk.Tk()\n",
    "root.title(\" Calculator\")\n",
    "\n",
    "entry = tk.Entry(root, width=25, font=('Arial bold', 28), justify='right')\n",
    "entry.grid(row=0, column=0, columnspan=4)\n",
    "\n",
    "buttons = [\n",
    "    ('7', 1, 0), ('8', 1, 1), ('9', 1, 2), ('/', 1, 3),\n",
    "    ('4', 2, 0), ('5', 2, 1), ('6', 2, 2), ('*', 2, 3),\n",
    "    ('1', 3, 0), ('2', 3, 1), ('3', 3, 2), ('-', 3, 3),\n",
    "    ('0', 4, 0), ('C', 4, 1), ('=', 4, 2), ('+', 4, 3)\n",
    "]\n",
    "\n"
   ]
  },
  {
   "cell_type": "code",
   "execution_count": 14,
   "metadata": {},
   "outputs": [],
   "source": [
    "for (text, row, col) in buttons:\n",
    "    if text == 'C':\n",
    "        button = tk.Button(root, text=text, width=5, height=2, command=clear_entry)\n",
    "    elif text == '=':\n",
    "        button = tk.Button(root, text=text, width=5, height=2, command=calculate)\n",
    "    else:\n",
    "        button = tk.Button(root, text=text, width=5, height=2, command=lambda t=text: on_click(t))\n",
    "    button.grid(row=row, column=col)\n",
    "\n",
    "root.mainloop()\n"
   ]
  },
  {
   "cell_type": "code",
   "execution_count": null,
   "metadata": {},
   "outputs": [],
   "source": []
  },
  {
   "cell_type": "code",
   "execution_count": 15,
   "metadata": {},
   "outputs": [
    {
     "ename": "FileNotFoundError",
     "evalue": "[Errno 2] No such file or directory: 'questions.txt'",
     "output_type": "error",
     "traceback": [
      "\u001b[1;31m---------------------------------------------------------------------------\u001b[0m",
      "\u001b[1;31mFileNotFoundError\u001b[0m                         Traceback (most recent call last)",
      "Cell \u001b[1;32mIn[15], line 92\u001b[0m\n\u001b[0;32m     90\u001b[0m \u001b[38;5;28;01mif\u001b[39;00m \u001b[38;5;18m__name__\u001b[39m \u001b[38;5;241m==\u001b[39m \u001b[38;5;124m\"\u001b[39m\u001b[38;5;124m__main__\u001b[39m\u001b[38;5;124m\"\u001b[39m:\n\u001b[0;32m     91\u001b[0m     root \u001b[38;5;241m=\u001b[39m tk\u001b[38;5;241m.\u001b[39mTk()\n\u001b[1;32m---> 92\u001b[0m     app \u001b[38;5;241m=\u001b[39m QuizApp(root)\n\u001b[0;32m     93\u001b[0m     root\u001b[38;5;241m.\u001b[39mmainloop()\n",
      "Cell \u001b[1;32mIn[15], line 11\u001b[0m, in \u001b[0;36mQuizApp.__init__\u001b[1;34m(self, master)\u001b[0m\n\u001b[0;32m      8\u001b[0m \u001b[38;5;28mself\u001b[39m\u001b[38;5;241m.\u001b[39mmaster\u001b[38;5;241m.\u001b[39mtitle(\u001b[38;5;124m\"\u001b[39m\u001b[38;5;124mQuiz Maker\u001b[39m\u001b[38;5;124m\"\u001b[39m)\n\u001b[0;32m      9\u001b[0m \u001b[38;5;28mself\u001b[39m\u001b[38;5;241m.\u001b[39mmaster\u001b[38;5;241m.\u001b[39mgeometry(\u001b[38;5;124m\"\u001b[39m\u001b[38;5;124m400x300\u001b[39m\u001b[38;5;124m\"\u001b[39m)\n\u001b[1;32m---> 11\u001b[0m \u001b[38;5;28mself\u001b[39m\u001b[38;5;241m.\u001b[39mquestions \u001b[38;5;241m=\u001b[39m \u001b[38;5;28mself\u001b[39m\u001b[38;5;241m.\u001b[39mread_questions(\u001b[38;5;124m\"\u001b[39m\u001b[38;5;124mquestions.txt\u001b[39m\u001b[38;5;124m\"\u001b[39m)\n\u001b[0;32m     12\u001b[0m \u001b[38;5;28mself\u001b[39m\u001b[38;5;241m.\u001b[39mquiz \u001b[38;5;241m=\u001b[39m []\n\u001b[0;32m     13\u001b[0m \u001b[38;5;28mself\u001b[39m\u001b[38;5;241m.\u001b[39mcurrent_question_index \u001b[38;5;241m=\u001b[39m \u001b[38;5;241m0\u001b[39m\n",
      "Cell \u001b[1;32mIn[15], line 19\u001b[0m, in \u001b[0;36mQuizApp.read_questions\u001b[1;34m(self, file_path)\u001b[0m\n\u001b[0;32m     18\u001b[0m \u001b[38;5;28;01mdef\u001b[39;00m \u001b[38;5;21mread_questions\u001b[39m(\u001b[38;5;28mself\u001b[39m, file_path):\n\u001b[1;32m---> 19\u001b[0m     \u001b[38;5;28;01mwith\u001b[39;00m \u001b[38;5;28mopen\u001b[39m(file_path, \u001b[38;5;124m'\u001b[39m\u001b[38;5;124mr\u001b[39m\u001b[38;5;124m'\u001b[39m) \u001b[38;5;28;01mas\u001b[39;00m file:\n\u001b[0;32m     20\u001b[0m         lines \u001b[38;5;241m=\u001b[39m file\u001b[38;5;241m.\u001b[39mreadlines()\n\u001b[0;32m     21\u001b[0m         questions \u001b[38;5;241m=\u001b[39m [line\u001b[38;5;241m.\u001b[39mstrip()\u001b[38;5;241m.\u001b[39msplit(\u001b[38;5;124m'\u001b[39m\u001b[38;5;124m|\u001b[39m\u001b[38;5;124m'\u001b[39m) \u001b[38;5;28;01mfor\u001b[39;00m line \u001b[38;5;129;01min\u001b[39;00m lines \u001b[38;5;28;01mif\u001b[39;00m line\u001b[38;5;241m.\u001b[39mstrip()]\n",
      "File \u001b[1;32m~\\anaconda3\\Lib\\site-packages\\IPython\\core\\interactiveshell.py:284\u001b[0m, in \u001b[0;36m_modified_open\u001b[1;34m(file, *args, **kwargs)\u001b[0m\n\u001b[0;32m    277\u001b[0m \u001b[38;5;28;01mif\u001b[39;00m file \u001b[38;5;129;01min\u001b[39;00m {\u001b[38;5;241m0\u001b[39m, \u001b[38;5;241m1\u001b[39m, \u001b[38;5;241m2\u001b[39m}:\n\u001b[0;32m    278\u001b[0m     \u001b[38;5;28;01mraise\u001b[39;00m \u001b[38;5;167;01mValueError\u001b[39;00m(\n\u001b[0;32m    279\u001b[0m         \u001b[38;5;124mf\u001b[39m\u001b[38;5;124m\"\u001b[39m\u001b[38;5;124mIPython won\u001b[39m\u001b[38;5;124m'\u001b[39m\u001b[38;5;124mt let you open fd=\u001b[39m\u001b[38;5;132;01m{\u001b[39;00mfile\u001b[38;5;132;01m}\u001b[39;00m\u001b[38;5;124m by default \u001b[39m\u001b[38;5;124m\"\u001b[39m\n\u001b[0;32m    280\u001b[0m         \u001b[38;5;124m\"\u001b[39m\u001b[38;5;124mas it is likely to crash IPython. If you know what you are doing, \u001b[39m\u001b[38;5;124m\"\u001b[39m\n\u001b[0;32m    281\u001b[0m         \u001b[38;5;124m\"\u001b[39m\u001b[38;5;124myou can use builtins\u001b[39m\u001b[38;5;124m'\u001b[39m\u001b[38;5;124m open.\u001b[39m\u001b[38;5;124m\"\u001b[39m\n\u001b[0;32m    282\u001b[0m     )\n\u001b[1;32m--> 284\u001b[0m \u001b[38;5;28;01mreturn\u001b[39;00m io_open(file, \u001b[38;5;241m*\u001b[39margs, \u001b[38;5;241m*\u001b[39m\u001b[38;5;241m*\u001b[39mkwargs)\n",
      "\u001b[1;31mFileNotFoundError\u001b[0m: [Errno 2] No such file or directory: 'questions.txt'"
     ]
    }
   ],
   "source": [
    "import tkinter as tk\n",
    "from tkinter import messagebox\n",
    "import random\n",
    "\n",
    "class QuizApp:\n",
    "    def __init__(self, master):\n",
    "        self.master = master\n",
    "        self.master.title(\"Quiz Maker\")\n",
    "        self.master.geometry(\"400x300\")\n",
    "\n",
    "        self.questions = self.read_questions(\"questions.txt\")\n",
    "        self.quiz = []\n",
    "        self.current_question_index = 0\n",
    "        self.responses = []\n",
    "\n",
    "        self.create_widgets()\n",
    "\n",
    "    def read_questions(self, file_path):\n",
    "        with open(file_path, 'r') as file:\n",
    "            lines = file.readlines()\n",
    "            questions = [line.strip().split('|') for line in lines if line.strip()]\n",
    "        return questions\n",
    "\n",
    "    def create_widgets(self):\n",
    "        self.question_label = tk.Label(self.master, text=\"\", wraplength=380, justify=\"left\", font=(\"Helvetica\", 12))\n",
    "        self.question_label.pack(pady=20)\n",
    "\n",
    "        self.answer_var = tk.StringVar()\n",
    "\n",
    "        for i in range(4):\n",
    "            option_button = tk.Radiobutton(self.master, text=\"\", variable=self.answer_var, value=\"\", command=self.set_response)\n",
    "            option_button.pack(anchor=\"w\")\n",
    "\n",
    "        next_button = tk.Button(self.master, text=\"Next\", command=self.next_question)\n",
    "        next_button.pack(pady=10)\n",
    "\n",
    "        submit_button = tk.Button(self.master, text=\"Submit\", command=self.submit_quiz)\n",
    "        submit_button.pack(pady=10)\n",
    "\n",
    "        self.load_next_question()\n",
    "\n",
    "    def load_next_question(self):\n",
    "        if self.current_question_index < len(self.questions):\n",
    "            question_data = self.questions[self.current_question_index]\n",
    "            question_text = question_data[0]\n",
    "            options = question_data[1:-1]\n",
    "            correct_answer = question_data[-1]\n",
    "\n",
    "            self.question_label.config(text=question_text)\n",
    "\n",
    "            self.answer_var.set(\"\")  \n",
    "            for i in range(4):\n",
    "                if i < len(options):\n",
    "                    option_text = options[i]\n",
    "                    self.master.children[f\"!radiobutton{i}\"].config(text=option_text, value=option_text)\n",
    "                    self.master.children[f\"!radiobutton{i}\"].config(state=\"normal\")\n",
    "                else:\n",
    "                    self.master.children[f\"!radiobutton{i}\"].config(state=\"disabled\")\n",
    "\n",
    "            self.quiz.append((question_text, correct_answer))\n",
    "            self.current_question_index += 1\n",
    "        else:\n",
    "            self.disable_widgets()\n",
    "\n",
    "    def set_response(self):\n",
    "        self.responses.append(self.answer_var.get())\n",
    "\n",
    "    def next_question(self):\n",
    "        self.set_response()\n",
    "        self.load_next_question()\n",
    "\n",
    "    def submit_quiz(self):\n",
    "        self.set_response()\n",
    "        score = self.grade_quiz()\n",
    "        messagebox.showinfo(\"Quiz Result\", f\"Your score: {score}/{len(self.questions)}\")\n",
    "        self.master.destroy()\n",
    "\n",
    "    def grade_quiz(self):\n",
    "        correct = 0\n",
    "        for response, (_, correct_answer) in zip(self.responses, self.quiz):\n",
    "            if response == correct_answer:\n",
    "                correct += 1\n",
    "        return correct\n",
    "\n",
    "    def disable_widgets(self):\n",
    "        for i in range(4):\n",
    "            self.master.children[f\"!radiobutton{i}\"].config(state=\"disabled\")\n",
    "\n",
    "\n",
    "if __name__ == \"__main__\":\n",
    "    root = tk.Tk()\n",
    "    app = QuizApp(root)\n",
    "    root.mainloop()\n"
   ]
  },
  {
   "cell_type": "code",
   "execution_count": null,
   "metadata": {},
   "outputs": [],
   "source": []
  },
  {
   "cell_type": "code",
   "execution_count": null,
   "metadata": {},
   "outputs": [],
   "source": []
  }
 ],
 "metadata": {
  "kernelspec": {
   "display_name": "Python 3 (ipykernel)",
   "language": "python",
   "name": "python3"
  },
  "language_info": {
   "codemirror_mode": {
    "name": "ipython",
    "version": 3
   },
   "file_extension": ".py",
   "mimetype": "text/x-python",
   "name": "python",
   "nbconvert_exporter": "python",
   "pygments_lexer": "ipython3",
   "version": "3.11.4"
  }
 },
 "nbformat": 4,
 "nbformat_minor": 4
}
